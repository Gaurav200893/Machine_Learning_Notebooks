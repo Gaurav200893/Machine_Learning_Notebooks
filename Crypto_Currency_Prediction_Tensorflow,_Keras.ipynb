{
  "nbformat": 4,
  "nbformat_minor": 0,
  "metadata": {
    "colab": {
      "name": "Crypto Currency Prediction - Tensorflow, Keras.ipynb",
      "version": "0.3.2",
      "provenance": [],
      "collapsed_sections": []
    },
    "kernelspec": {
      "name": "python3",
      "display_name": "Python 3"
    },
    "accelerator": "GPU"
  },
  "cells": [
    {
      "metadata": {
        "id": "IKeWYeBTLZiC",
        "colab_type": "code",
        "outputId": "a4c44bd4-7794-4854-c5de-716bcc1fa0d2",
        "colab": {
          "base_uri": "https://localhost:8080/",
          "height": 204
        }
      },
      "cell_type": "code",
      "source": [
        "# Get the Crypto currency data\n",
        "\n",
        "!wget https://pythonprogramming.net/static/downloads/machine-learning-data/crypto_data.zip"
      ],
      "execution_count": 0,
      "outputs": [
        {
          "output_type": "stream",
          "text": [
            "--2019-03-29 14:12:25--  https://pythonprogramming.net/static/downloads/machine-learning-data/crypto_data.zip\n",
            "Resolving pythonprogramming.net (pythonprogramming.net)... 104.237.143.20, 2600:3c00::f03c:91ff:fe84:176d\n",
            "Connecting to pythonprogramming.net (pythonprogramming.net)|104.237.143.20|:443... connected.\n",
            "HTTP request sent, awaiting response... 200 OK\n",
            "Length: 5998694 (5.7M) [application/zip]\n",
            "Saving to: ‘crypto_data.zip’\n",
            "\n",
            "crypto_data.zip     100%[===================>]   5.72M  6.34MB/s    in 0.9s    \n",
            "\n",
            "2019-03-29 14:12:26 (6.34 MB/s) - ‘crypto_data.zip’ saved [5998694/5998694]\n",
            "\n"
          ],
          "name": "stdout"
        }
      ]
    },
    {
      "metadata": {
        "id": "RcvGltL4Mzr1",
        "colab_type": "code",
        "outputId": "103c76e5-071d-42b4-e1e8-1570e59e43a3",
        "colab": {
          "base_uri": "https://localhost:8080/",
          "height": 102
        }
      },
      "cell_type": "code",
      "source": [
        "!unzip crypto_data.zip"
      ],
      "execution_count": 0,
      "outputs": [
        {
          "output_type": "stream",
          "text": [
            "Archive:  crypto_data.zip\n",
            "  inflating: crypto_data/BCH-USD.csv  \n",
            "  inflating: crypto_data/BTC-USD.csv  \n",
            "  inflating: crypto_data/ETH-USD.csv  \n",
            "  inflating: crypto_data/LTC-USD.csv  \n"
          ],
          "name": "stdout"
        }
      ]
    },
    {
      "metadata": {
        "id": "248Y6fOOM5QF",
        "colab_type": "code",
        "outputId": "a556de4e-6740-4890-d3d9-fcdbfe341e49",
        "colab": {
          "base_uri": "https://localhost:8080/",
          "height": 34
        }
      },
      "cell_type": "code",
      "source": [
        "# check folder\n",
        "!ls"
      ],
      "execution_count": 0,
      "outputs": [
        {
          "output_type": "stream",
          "text": [
            "crypto_data  crypto_data.zip  sample_data\n"
          ],
          "name": "stdout"
        }
      ]
    },
    {
      "metadata": {
        "id": "423gcr__NFD9",
        "colab_type": "code",
        "colab": {}
      },
      "cell_type": "code",
      "source": [
        "# ORDER of columns are LOW, HIGH, OPEN, CLOSE, Volume"
      ],
      "execution_count": 0,
      "outputs": []
    },
    {
      "metadata": {
        "id": "4_mg2JyfNLdm",
        "colab_type": "code",
        "outputId": "26cde833-747f-4fd2-e13b-d557cdc849a2",
        "colab": {
          "base_uri": "https://localhost:8080/",
          "height": 204
        }
      },
      "cell_type": "code",
      "source": [
        "#code\n",
        "\n",
        "#imports\n",
        "\n",
        "import pandas as pd\n",
        "\n",
        "df = pd.read_csv(\"crypto_data/LTC-USD.csv\", names=[\"time\", \"low\", \"high\", \"open\", \"close\", \"volume\" ])\n",
        "df.head()"
      ],
      "execution_count": 0,
      "outputs": [
        {
          "output_type": "execute_result",
          "data": {
            "text/html": [
              "<div>\n",
              "<style scoped>\n",
              "    .dataframe tbody tr th:only-of-type {\n",
              "        vertical-align: middle;\n",
              "    }\n",
              "\n",
              "    .dataframe tbody tr th {\n",
              "        vertical-align: top;\n",
              "    }\n",
              "\n",
              "    .dataframe thead th {\n",
              "        text-align: right;\n",
              "    }\n",
              "</style>\n",
              "<table border=\"1\" class=\"dataframe\">\n",
              "  <thead>\n",
              "    <tr style=\"text-align: right;\">\n",
              "      <th></th>\n",
              "      <th>time</th>\n",
              "      <th>low</th>\n",
              "      <th>high</th>\n",
              "      <th>open</th>\n",
              "      <th>close</th>\n",
              "      <th>volume</th>\n",
              "    </tr>\n",
              "  </thead>\n",
              "  <tbody>\n",
              "    <tr>\n",
              "      <th>0</th>\n",
              "      <td>1528968660</td>\n",
              "      <td>96.580002</td>\n",
              "      <td>96.589996</td>\n",
              "      <td>96.589996</td>\n",
              "      <td>96.580002</td>\n",
              "      <td>9.647200</td>\n",
              "    </tr>\n",
              "    <tr>\n",
              "      <th>1</th>\n",
              "      <td>1528968720</td>\n",
              "      <td>96.449997</td>\n",
              "      <td>96.669998</td>\n",
              "      <td>96.589996</td>\n",
              "      <td>96.660004</td>\n",
              "      <td>314.387024</td>\n",
              "    </tr>\n",
              "    <tr>\n",
              "      <th>2</th>\n",
              "      <td>1528968780</td>\n",
              "      <td>96.470001</td>\n",
              "      <td>96.570000</td>\n",
              "      <td>96.570000</td>\n",
              "      <td>96.570000</td>\n",
              "      <td>77.129799</td>\n",
              "    </tr>\n",
              "    <tr>\n",
              "      <th>3</th>\n",
              "      <td>1528968840</td>\n",
              "      <td>96.449997</td>\n",
              "      <td>96.570000</td>\n",
              "      <td>96.570000</td>\n",
              "      <td>96.500000</td>\n",
              "      <td>7.216067</td>\n",
              "    </tr>\n",
              "    <tr>\n",
              "      <th>4</th>\n",
              "      <td>1528968900</td>\n",
              "      <td>96.279999</td>\n",
              "      <td>96.540001</td>\n",
              "      <td>96.500000</td>\n",
              "      <td>96.389999</td>\n",
              "      <td>524.539978</td>\n",
              "    </tr>\n",
              "  </tbody>\n",
              "</table>\n",
              "</div>"
            ],
            "text/plain": [
              "         time        low       high       open      close      volume\n",
              "0  1528968660  96.580002  96.589996  96.589996  96.580002    9.647200\n",
              "1  1528968720  96.449997  96.669998  96.589996  96.660004  314.387024\n",
              "2  1528968780  96.470001  96.570000  96.570000  96.570000   77.129799\n",
              "3  1528968840  96.449997  96.570000  96.570000  96.500000    7.216067\n",
              "4  1528968900  96.279999  96.540001  96.500000  96.389999  524.539978"
            ]
          },
          "metadata": {
            "tags": []
          },
          "execution_count": 5
        }
      ]
    },
    {
      "metadata": {
        "id": "e6i3Dj4VN2lS",
        "colab_type": "code",
        "colab": {}
      },
      "cell_type": "code",
      "source": [
        "#using only close and volume for this\n",
        "#So create new df using previous df"
      ],
      "execution_count": 0,
      "outputs": []
    },
    {
      "metadata": {
        "id": "0QDtpiuBN72a",
        "colab_type": "code",
        "outputId": "3bbd5fb5-045b-4829-d73a-d68f6a743c5e",
        "colab": {
          "base_uri": "https://localhost:8080/",
          "height": 252
        }
      },
      "cell_type": "code",
      "source": [
        "main_df = pd.DataFrame()\n",
        "ratios = [\"BTC-USD\",\"LTC-USD\",\"ETH-USD\",\"BCH-USD\"]\n",
        "\n",
        "for ratio in ratios:\n",
        "  dataset = f\"crypto_data/{ratio}.csv\"\n",
        "  \n",
        "  df = pd.read_csv(dataset, names=[\"time\", \"low\", \"high\", \"open\", \"close\", \"volume\"])\n",
        "  df.rename(columns={\"close\": f\"{ratio}_close\", \"volume\": f\"{ratio}_volume\"}, inplace=True) #rename so that all the colums have different names before join\n",
        "  \n",
        "  df.set_index(\"time\", inplace=True) #this is the common index that will contain all the other curreny columns like primary key\n",
        "  \n",
        "  df = df[[f\"{ratio}_close\", f\"{ratio}_volume\"]] #get only those columns\n",
        "#   print(df.head()) #check how it looks\n",
        "  if len(main_df) == 0:\n",
        "    main_df = df\n",
        "  else:\n",
        "    main_df = main_df.join(df)\n",
        "    \n",
        "    \n",
        "main_df.head()\n",
        "    \n",
        "  \n",
        "  "
      ],
      "execution_count": 0,
      "outputs": [
        {
          "output_type": "execute_result",
          "data": {
            "text/html": [
              "<div>\n",
              "<style scoped>\n",
              "    .dataframe tbody tr th:only-of-type {\n",
              "        vertical-align: middle;\n",
              "    }\n",
              "\n",
              "    .dataframe tbody tr th {\n",
              "        vertical-align: top;\n",
              "    }\n",
              "\n",
              "    .dataframe thead th {\n",
              "        text-align: right;\n",
              "    }\n",
              "</style>\n",
              "<table border=\"1\" class=\"dataframe\">\n",
              "  <thead>\n",
              "    <tr style=\"text-align: right;\">\n",
              "      <th></th>\n",
              "      <th>BTC-USD_close</th>\n",
              "      <th>BTC-USD_volume</th>\n",
              "      <th>LTC-USD_close</th>\n",
              "      <th>LTC-USD_volume</th>\n",
              "      <th>ETH-USD_close</th>\n",
              "      <th>ETH-USD_volume</th>\n",
              "      <th>BCH-USD_close</th>\n",
              "      <th>BCH-USD_volume</th>\n",
              "    </tr>\n",
              "    <tr>\n",
              "      <th>time</th>\n",
              "      <th></th>\n",
              "      <th></th>\n",
              "      <th></th>\n",
              "      <th></th>\n",
              "      <th></th>\n",
              "      <th></th>\n",
              "      <th></th>\n",
              "      <th></th>\n",
              "    </tr>\n",
              "  </thead>\n",
              "  <tbody>\n",
              "    <tr>\n",
              "      <th>1528968660</th>\n",
              "      <td>6489.549805</td>\n",
              "      <td>0.587100</td>\n",
              "      <td>96.580002</td>\n",
              "      <td>9.647200</td>\n",
              "      <td>NaN</td>\n",
              "      <td>NaN</td>\n",
              "      <td>871.719971</td>\n",
              "      <td>5.675361</td>\n",
              "    </tr>\n",
              "    <tr>\n",
              "      <th>1528968720</th>\n",
              "      <td>6487.379883</td>\n",
              "      <td>7.706374</td>\n",
              "      <td>96.660004</td>\n",
              "      <td>314.387024</td>\n",
              "      <td>486.01001</td>\n",
              "      <td>26.019083</td>\n",
              "      <td>870.859985</td>\n",
              "      <td>26.856577</td>\n",
              "    </tr>\n",
              "    <tr>\n",
              "      <th>1528968780</th>\n",
              "      <td>6479.410156</td>\n",
              "      <td>3.088252</td>\n",
              "      <td>96.570000</td>\n",
              "      <td>77.129799</td>\n",
              "      <td>486.00000</td>\n",
              "      <td>8.449400</td>\n",
              "      <td>870.099976</td>\n",
              "      <td>1.124300</td>\n",
              "    </tr>\n",
              "    <tr>\n",
              "      <th>1528968840</th>\n",
              "      <td>6479.410156</td>\n",
              "      <td>1.404100</td>\n",
              "      <td>96.500000</td>\n",
              "      <td>7.216067</td>\n",
              "      <td>485.75000</td>\n",
              "      <td>26.994646</td>\n",
              "      <td>870.789978</td>\n",
              "      <td>1.749862</td>\n",
              "    </tr>\n",
              "    <tr>\n",
              "      <th>1528968900</th>\n",
              "      <td>6479.979980</td>\n",
              "      <td>0.753000</td>\n",
              "      <td>96.389999</td>\n",
              "      <td>524.539978</td>\n",
              "      <td>486.00000</td>\n",
              "      <td>77.355759</td>\n",
              "      <td>870.000000</td>\n",
              "      <td>1.680500</td>\n",
              "    </tr>\n",
              "  </tbody>\n",
              "</table>\n",
              "</div>"
            ],
            "text/plain": [
              "            BTC-USD_close  BTC-USD_volume  LTC-USD_close  LTC-USD_volume  \\\n",
              "time                                                                       \n",
              "1528968660    6489.549805        0.587100      96.580002        9.647200   \n",
              "1528968720    6487.379883        7.706374      96.660004      314.387024   \n",
              "1528968780    6479.410156        3.088252      96.570000       77.129799   \n",
              "1528968840    6479.410156        1.404100      96.500000        7.216067   \n",
              "1528968900    6479.979980        0.753000      96.389999      524.539978   \n",
              "\n",
              "            ETH-USD_close  ETH-USD_volume  BCH-USD_close  BCH-USD_volume  \n",
              "time                                                                      \n",
              "1528968660            NaN             NaN     871.719971        5.675361  \n",
              "1528968720      486.01001       26.019083     870.859985       26.856577  \n",
              "1528968780      486.00000        8.449400     870.099976        1.124300  \n",
              "1528968840      485.75000       26.994646     870.789978        1.749862  \n",
              "1528968900      486.00000       77.355759     870.000000        1.680500  "
            ]
          },
          "metadata": {
            "tags": []
          },
          "execution_count": 8
        }
      ]
    },
    {
      "metadata": {
        "id": "KIGpFMq6RTBQ",
        "colab_type": "code",
        "colab": {}
      },
      "cell_type": "code",
      "source": [
        "# Some Sequence defaults\n",
        "\n",
        "SEQ_LEN = 60    # use data of last 60 mins \n",
        "FUTURE_PERIOD_PREDICT = 3   # predict 3 mins into the future\n",
        "RATIO_TO_PREDICT = \"LTC-USD\" #predict LTC for now\n",
        "\n",
        "def classify(current, future):\n",
        "  if float(future) > float(current): #if future price is high then its a BUY call\n",
        "    return 1\n",
        "  else:   # else dont BUY\n",
        "    return 0"
      ],
      "execution_count": 0,
      "outputs": []
    },
    {
      "metadata": {
        "id": "dF9ChepNU2ov",
        "colab_type": "code",
        "outputId": "bfa1351f-2cfb-4580-a91e-0408679b3f26",
        "colab": {
          "base_uri": "https://localhost:8080/",
          "height": 235
        }
      },
      "cell_type": "code",
      "source": [
        "main_df['future'] = main_df[f\"{RATIO_TO_PREDICT}_close\"].shift(-FUTURE_PERIOD_PREDICT) #time series shift\n",
        "main_df[[f\"{RATIO_TO_PREDICT}_close\",'future']].head()"
      ],
      "execution_count": 0,
      "outputs": [
        {
          "output_type": "execute_result",
          "data": {
            "text/html": [
              "<div>\n",
              "<style scoped>\n",
              "    .dataframe tbody tr th:only-of-type {\n",
              "        vertical-align: middle;\n",
              "    }\n",
              "\n",
              "    .dataframe tbody tr th {\n",
              "        vertical-align: top;\n",
              "    }\n",
              "\n",
              "    .dataframe thead th {\n",
              "        text-align: right;\n",
              "    }\n",
              "</style>\n",
              "<table border=\"1\" class=\"dataframe\">\n",
              "  <thead>\n",
              "    <tr style=\"text-align: right;\">\n",
              "      <th></th>\n",
              "      <th>LTC-USD_close</th>\n",
              "      <th>future</th>\n",
              "    </tr>\n",
              "    <tr>\n",
              "      <th>time</th>\n",
              "      <th></th>\n",
              "      <th></th>\n",
              "    </tr>\n",
              "  </thead>\n",
              "  <tbody>\n",
              "    <tr>\n",
              "      <th>1528968660</th>\n",
              "      <td>96.580002</td>\n",
              "      <td>96.500000</td>\n",
              "    </tr>\n",
              "    <tr>\n",
              "      <th>1528968720</th>\n",
              "      <td>96.660004</td>\n",
              "      <td>96.389999</td>\n",
              "    </tr>\n",
              "    <tr>\n",
              "      <th>1528968780</th>\n",
              "      <td>96.570000</td>\n",
              "      <td>96.519997</td>\n",
              "    </tr>\n",
              "    <tr>\n",
              "      <th>1528968840</th>\n",
              "      <td>96.500000</td>\n",
              "      <td>96.440002</td>\n",
              "    </tr>\n",
              "    <tr>\n",
              "      <th>1528968900</th>\n",
              "      <td>96.389999</td>\n",
              "      <td>96.470001</td>\n",
              "    </tr>\n",
              "  </tbody>\n",
              "</table>\n",
              "</div>"
            ],
            "text/plain": [
              "            LTC-USD_close     future\n",
              "time                                \n",
              "1528968660      96.580002  96.500000\n",
              "1528968720      96.660004  96.389999\n",
              "1528968780      96.570000  96.519997\n",
              "1528968840      96.500000  96.440002\n",
              "1528968900      96.389999  96.470001"
            ]
          },
          "metadata": {
            "tags": []
          },
          "execution_count": 10
        }
      ]
    },
    {
      "metadata": {
        "id": "XqWfdd-7Zb0n",
        "colab_type": "code",
        "outputId": "a46100c9-3199-4ab6-9725-8076193f636f",
        "colab": {
          "base_uri": "https://localhost:8080/",
          "height": 390
        }
      },
      "cell_type": "code",
      "source": [
        "main_df['target'] = list(map(classify,main_df[f\"{RATIO_TO_PREDICT}_close\"], main_df[\"future\"] ))\n",
        "\n",
        "main_df[[f\"{RATIO_TO_PREDICT}_close\",'future', 'target']].head(10)"
      ],
      "execution_count": 0,
      "outputs": [
        {
          "output_type": "execute_result",
          "data": {
            "text/html": [
              "<div>\n",
              "<style scoped>\n",
              "    .dataframe tbody tr th:only-of-type {\n",
              "        vertical-align: middle;\n",
              "    }\n",
              "\n",
              "    .dataframe tbody tr th {\n",
              "        vertical-align: top;\n",
              "    }\n",
              "\n",
              "    .dataframe thead th {\n",
              "        text-align: right;\n",
              "    }\n",
              "</style>\n",
              "<table border=\"1\" class=\"dataframe\">\n",
              "  <thead>\n",
              "    <tr style=\"text-align: right;\">\n",
              "      <th></th>\n",
              "      <th>LTC-USD_close</th>\n",
              "      <th>future</th>\n",
              "      <th>target</th>\n",
              "    </tr>\n",
              "    <tr>\n",
              "      <th>time</th>\n",
              "      <th></th>\n",
              "      <th></th>\n",
              "      <th></th>\n",
              "    </tr>\n",
              "  </thead>\n",
              "  <tbody>\n",
              "    <tr>\n",
              "      <th>1528968660</th>\n",
              "      <td>96.580002</td>\n",
              "      <td>96.500000</td>\n",
              "      <td>0</td>\n",
              "    </tr>\n",
              "    <tr>\n",
              "      <th>1528968720</th>\n",
              "      <td>96.660004</td>\n",
              "      <td>96.389999</td>\n",
              "      <td>0</td>\n",
              "    </tr>\n",
              "    <tr>\n",
              "      <th>1528968780</th>\n",
              "      <td>96.570000</td>\n",
              "      <td>96.519997</td>\n",
              "      <td>0</td>\n",
              "    </tr>\n",
              "    <tr>\n",
              "      <th>1528968840</th>\n",
              "      <td>96.500000</td>\n",
              "      <td>96.440002</td>\n",
              "      <td>0</td>\n",
              "    </tr>\n",
              "    <tr>\n",
              "      <th>1528968900</th>\n",
              "      <td>96.389999</td>\n",
              "      <td>96.470001</td>\n",
              "      <td>1</td>\n",
              "    </tr>\n",
              "    <tr>\n",
              "      <th>1528968960</th>\n",
              "      <td>96.519997</td>\n",
              "      <td>96.400002</td>\n",
              "      <td>0</td>\n",
              "    </tr>\n",
              "    <tr>\n",
              "      <th>1528969020</th>\n",
              "      <td>96.440002</td>\n",
              "      <td>96.400002</td>\n",
              "      <td>0</td>\n",
              "    </tr>\n",
              "    <tr>\n",
              "      <th>1528969080</th>\n",
              "      <td>96.470001</td>\n",
              "      <td>96.400002</td>\n",
              "      <td>0</td>\n",
              "    </tr>\n",
              "    <tr>\n",
              "      <th>1528969140</th>\n",
              "      <td>96.400002</td>\n",
              "      <td>96.400002</td>\n",
              "      <td>0</td>\n",
              "    </tr>\n",
              "    <tr>\n",
              "      <th>1528969200</th>\n",
              "      <td>96.400002</td>\n",
              "      <td>96.400002</td>\n",
              "      <td>0</td>\n",
              "    </tr>\n",
              "  </tbody>\n",
              "</table>\n",
              "</div>"
            ],
            "text/plain": [
              "            LTC-USD_close     future  target\n",
              "time                                        \n",
              "1528968660      96.580002  96.500000       0\n",
              "1528968720      96.660004  96.389999       0\n",
              "1528968780      96.570000  96.519997       0\n",
              "1528968840      96.500000  96.440002       0\n",
              "1528968900      96.389999  96.470001       1\n",
              "1528968960      96.519997  96.400002       0\n",
              "1528969020      96.440002  96.400002       0\n",
              "1528969080      96.470001  96.400002       0\n",
              "1528969140      96.400002  96.400002       0\n",
              "1528969200      96.400002  96.400002       0"
            ]
          },
          "metadata": {
            "tags": []
          },
          "execution_count": 11
        }
      ]
    },
    {
      "metadata": {
        "id": "qOIl0Bz1azyj",
        "colab_type": "code",
        "outputId": "608f26db-dc80-4026-dcda-4353f4ad968a",
        "colab": {
          "base_uri": "https://localhost:8080/",
          "height": 34
        }
      },
      "cell_type": "code",
      "source": [
        "# separate out of sample data because model can overfit to outofsample data too!\n",
        "\n",
        "#get 5 % out\n",
        "\n",
        "times = sorted(main_df.index.values)  #ordered data\n",
        "\n",
        "last_5pct = times[-int(0.05*len(times))]\n",
        "last_5pct\n",
        "\n"
      ],
      "execution_count": 0,
      "outputs": [
        {
          "output_type": "execute_result",
          "data": {
            "text/plain": [
              "1534922100"
            ]
          },
          "metadata": {
            "tags": []
          },
          "execution_count": 12
        }
      ]
    },
    {
      "metadata": {
        "id": "Tnd8JmvLcFCa",
        "colab_type": "code",
        "colab": {}
      },
      "cell_type": "code",
      "source": [
        "#Separate the data\n",
        "\n",
        "validation_main_df = main_df[(main_df.index >=last_5pct)]\n",
        "\n",
        "main_df = main_df[(main_df.index < last_5pct)]\n"
      ],
      "execution_count": 0,
      "outputs": []
    },
    {
      "metadata": {
        "id": "GtfZEvQ2dvhK",
        "colab_type": "code",
        "colab": {}
      },
      "cell_type": "code",
      "source": [
        "from sklearn import preprocessing\n",
        "from collections import deque\n",
        "import random\n",
        "import numpy as np\n",
        "\n",
        "\n",
        "def preprocess_df(df):\n",
        "  df = df.drop(\"future\", 1) # no need for prediction\n",
        "  for col in df.columns:\n",
        "    if col != \"target\":\n",
        "      df[col] = df[col].pct_change() # convert to percentage because each currency has different value but percent change will normalize it\n",
        "      df.dropna(inplace=True)\n",
        "      df[col] = preprocessing.scale(df[col].values) # scale it between 0 and 1\n",
        "      \n",
        "  df.dropna(inplace=True)\n",
        "  \n",
        "  sequential_data = []\n",
        "  prev_days = deque(maxlen=SEQ_LEN) # de-que will pop up data once it reaches more than 60; uptil 60 it will hold the data\n",
        "#   print(df.head()) # see the data\n",
        "  for i in df.values:\n",
        "    prev_days.append([n for n in i[:-1]])\n",
        "    if len(prev_days) == SEQ_LEN:\n",
        "      sequential_data.append([np.array(prev_days), i[-1]])\n",
        "  \n",
        "  random.shuffle(sequential_data)\n",
        "  \n",
        "  buys = []\n",
        "  sells = []\n",
        "  \n",
        "  #distributing buy and sell equally\n",
        "  for seq, target in sequential_data:\n",
        "    if target == 0:\n",
        "      sells.append([seq, target])\n",
        "    elif target == 1:\n",
        "      buys.append([seq, target])\n",
        "      \n",
        "      \n",
        "  random.shuffle(buys)\n",
        "  random.shuffle(sells)\n",
        "  \n",
        "  lower = min(len(buys), len(sells))\n",
        "  \n",
        "  buys = buys[:lower]\n",
        "  sells = sells[:lower]\n",
        "  \n",
        "  \n",
        "  sequential_data = buys+sells\n",
        "  \n",
        "  random.shuffle(sequential_data)\n",
        "  \n",
        "  \n",
        "  X = []\n",
        "  y = []\n",
        "  \n",
        "  for seq, target in sequential_data:\n",
        "    X.append(seq)\n",
        "    y.append(target)\n",
        "    \n",
        "   \n",
        "  return np.array(X), y\n",
        "  \n",
        "# preprocess_df(main_df)\n",
        "  \n",
        "        "
      ],
      "execution_count": 0,
      "outputs": []
    },
    {
      "metadata": {
        "id": "8ttE2k6bdVfb",
        "colab_type": "code",
        "colab": {}
      },
      "cell_type": "code",
      "source": [
        "train_x, train_y = preprocess_df(main_df)\n",
        "validation_x, validation_y = preprocess_df(validation_main_df)"
      ],
      "execution_count": 0,
      "outputs": []
    },
    {
      "metadata": {
        "id": "NllHGd8MSoj9",
        "colab_type": "code",
        "outputId": "bc37d89e-1524-4981-8bda-4be938a53ede",
        "colab": {
          "base_uri": "https://localhost:8080/",
          "height": 68
        }
      },
      "cell_type": "code",
      "source": [
        "print(f\"train_data: {len(train_x)} validation: {len(validation_x)}\" )\n",
        "print(f\"Dont buys: {train_y.count(0)}, buys: {train_y.count(1)}\")\n",
        "print(f\"Validation Dont buys: {validation_y.count(0)}, buys: {validation_y.count(1)}\")"
      ],
      "execution_count": 0,
      "outputs": [
        {
          "output_type": "stream",
          "text": [
            "train_data: 69188 validation: 3062\n",
            "Dont buys: 34594, buys: 34594\n",
            "Validation Dont buys: 1531, buys: 1531\n"
          ],
          "name": "stdout"
        }
      ]
    },
    {
      "metadata": {
        "id": "tT17dzHkTtop",
        "colab_type": "code",
        "colab": {}
      },
      "cell_type": "code",
      "source": [
        "import time\n",
        "\n",
        "# Note: RATIO_TO_PREDICT has to be changed to see the graph for each currency; ie. run for each currency\n",
        "\n",
        "EPOCHS = 3\n",
        "BATCH_SIZE = 64\n",
        "NAME = f\"{RATIO_TO_PREDICT}-{SEQ_LEN}-SEQ-{FUTURE_PERIOD_PREDICT}-PRED-{int(time.time())}\" \n",
        "\n",
        "\n",
        "import tensorflow as tf\n",
        "from tensorflow.keras.models import Sequential\n",
        "from tensorflow.keras.layers import Dense, Dropout, LSTM, CuDNNLSTM, BatchNormalization\n",
        "\n",
        "from tensorflow.keras.callbacks import TensorBoard, ModelCheckpoint # for tensor board\n",
        "\n",
        "\n",
        "# from tensorflow.keras.callbacks import EarlyStopping"
      ],
      "execution_count": 0,
      "outputs": []
    },
    {
      "metadata": {
        "id": "CsHiQ5yZgtgj",
        "colab_type": "code",
        "outputId": "d7ee1ea6-7790-4c9e-ca10-d8ac1b6ecb89",
        "colab": {
          "base_uri": "https://localhost:8080/",
          "height": 238
        }
      },
      "cell_type": "code",
      "source": [
        "#run tensorboard in background\n",
        "\n",
        "# !pip install tensorboardcolab\n",
        "\n",
        "!wget https://bin.equinox.io/c/4VmDzA7iaHb/ngrok-stable-linux-amd64.zip\n",
        "!unzip ngrok-stable-linux-amd64.zip"
      ],
      "execution_count": 0,
      "outputs": [
        {
          "output_type": "stream",
          "text": [
            "--2019-03-29 14:16:03--  https://bin.equinox.io/c/4VmDzA7iaHb/ngrok-stable-linux-amd64.zip\n",
            "Resolving bin.equinox.io (bin.equinox.io)... 52.22.145.207, 34.206.130.40, 52.21.103.149, ...\n",
            "Connecting to bin.equinox.io (bin.equinox.io)|52.22.145.207|:443... connected.\n",
            "HTTP request sent, awaiting response... 200 OK\n",
            "Length: 14977695 (14M) [application/octet-stream]\n",
            "Saving to: ‘ngrok-stable-linux-amd64.zip’\n",
            "\n",
            "ngrok-stable-linux- 100%[===================>]  14.28M  1.57MB/s    in 8.1s    \n",
            "\n",
            "2019-03-29 14:16:11 (1.76 MB/s) - ‘ngrok-stable-linux-amd64.zip’ saved [14977695/14977695]\n",
            "\n",
            "Archive:  ngrok-stable-linux-amd64.zip\n",
            "  inflating: ngrok                   \n"
          ],
          "name": "stdout"
        }
      ]
    },
    {
      "metadata": {
        "id": "ef03-wGQg6c7",
        "colab_type": "code",
        "colab": {}
      },
      "cell_type": "code",
      "source": [
        "# from tensorboardcolab import *\n",
        "\n",
        "# tbc=TensorBoardColab()\n",
        "\n",
        "LOG_DIR = './log'\n",
        "get_ipython().system_raw(\n",
        "    'tensorboard --logdir {} --host 0.0.0.0 --port 6006 &'\n",
        "    .format(LOG_DIR)\n",
        ")\n",
        "\n",
        "\n"
      ],
      "execution_count": 0,
      "outputs": []
    },
    {
      "metadata": {
        "id": "0W5q2deNmQ6S",
        "colab_type": "code",
        "colab": {}
      },
      "cell_type": "code",
      "source": [
        "get_ipython().system_raw('./ngrok http 6006 &')"
      ],
      "execution_count": 0,
      "outputs": []
    },
    {
      "metadata": {
        "id": "xzGwI7uSmQAS",
        "colab_type": "code",
        "outputId": "90d2569e-2dc4-42fc-a03b-36802a5c3b5e",
        "colab": {
          "base_uri": "https://localhost:8080/",
          "height": 34
        }
      },
      "cell_type": "code",
      "source": [
        "# go to this site for visualization\n",
        "\n",
        "! curl -s http://localhost:4040/api/tunnels | python3 -c \\\n",
        "    \"import sys, json; print(json.load(sys.stdin)['tunnels'][0]['public_url'])\""
      ],
      "execution_count": 0,
      "outputs": [
        {
          "output_type": "stream",
          "text": [
            "http://27cdb79f.ngrok.io\n"
          ],
          "name": "stdout"
        }
      ]
    },
    {
      "metadata": {
        "id": "gW2knFbooyzy",
        "colab_type": "code",
        "colab": {}
      },
      "cell_type": "code",
      "source": [
        "!mkdir models"
      ],
      "execution_count": 0,
      "outputs": []
    },
    {
      "metadata": {
        "id": "MYHYacltpCgJ",
        "colab_type": "code",
        "outputId": "d90f287d-767a-4cf7-be11-97a81fe12453",
        "colab": {
          "base_uri": "https://localhost:8080/",
          "height": 51
        }
      },
      "cell_type": "code",
      "source": [
        "!ls"
      ],
      "execution_count": 0,
      "outputs": [
        {
          "output_type": "stream",
          "text": [
            "crypto_data\t models  ngrok-stable-linux-amd64.zip\n",
            "crypto_data.zip  ngrok\t sample_data\n"
          ],
          "name": "stdout"
        }
      ]
    },
    {
      "metadata": {
        "id": "8bDK54DqmqHB",
        "colab_type": "code",
        "colab": {}
      },
      "cell_type": "code",
      "source": [
        "tbCallBack = TensorBoard(log_dir=f\"./log/{NAME}\", histogram_freq=1,\n",
        "                         write_graph=True,\n",
        "                         write_grads=True,\n",
        "                         batch_size=BATCH_SIZE,\n",
        "                         write_images=True)"
      ],
      "execution_count": 0,
      "outputs": []
    },
    {
      "metadata": {
        "id": "sIJUfy98UBn5",
        "colab_type": "code",
        "outputId": "a7c4f354-54c3-4b31-e9cd-c1683770cc60",
        "colab": {
          "base_uri": "https://localhost:8080/",
          "height": 1050
        }
      },
      "cell_type": "code",
      "source": [
        "\n",
        "\n",
        "model = Sequential()\n",
        "\n",
        "model.add(CuDNNLSTM(128, input_shape=(train_x.shape[1:]), return_sequences=True))\n",
        "model.add(Dropout(0.2))\n",
        "model.add(BatchNormalization())\n",
        "\n",
        "\n",
        "model.add(CuDNNLSTM(128, input_shape=(train_x.shape[1:]), return_sequences=True))\n",
        "model.add(Dropout(0.1))\n",
        "model.add(BatchNormalization())\n",
        "\n",
        "model.add(CuDNNLSTM(128, input_shape=(train_x.shape[1:])))\n",
        "model.add(Dropout(0.2))\n",
        "model.add(BatchNormalization())\n",
        "\n",
        "\n",
        "model.add(Dense(32, activation=\"relu\"))\n",
        "model.add(Dropout(0.2))\n",
        "\n",
        "\n",
        "model.add(Dense(2, activation=\"softmax\"))\n",
        "\n",
        "\n",
        "opt = tf.keras.optimizers.Adam(lr=0.001, decay=1e-6)\n",
        "model.compile(loss='sparse_categorical_crossentropy',\n",
        "             optimizer=opt,\n",
        "             metrics=['accuracy'])\n",
        "\n",
        "\n",
        "# tensorboard = TensorBoard(log_dir=f\"logs/{NAME}\")\n",
        "filepath = \"RNN_Final-{epoch:02d}-{val_acc:.3f}\"\n",
        "checkpoint = ModelCheckpoint(\"./models/{}_test.model\".format(filepath, monitor='val_acc', verbose=1, save_best_only=True, mode='max'))\n",
        "\n",
        "\n",
        "history = model.fit(\n",
        "train_x, train_y,\n",
        "    batch_size=BATCH_SIZE,\n",
        "    epochs=10,\n",
        "    validation_data=(validation_x, validation_y),\n",
        "    callbacks=[tbCallBack, checkpoint]\n",
        ")\n",
        "\n",
        "\n",
        "#If error clear runtime\n"
      ],
      "execution_count": 0,
      "outputs": [
        {
          "output_type": "stream",
          "text": [
            "Train on 69188 samples, validate on 3062 samples\n",
            "Epoch 1/10\n",
            "69184/69188 [============================>.] - ETA: 0s - loss: 0.7169 - acc: 0.5214"
          ],
          "name": "stdout"
        },
        {
          "output_type": "error",
          "ename": "InvalidArgumentError",
          "evalue": "ignored",
          "traceback": [
            "\u001b[0;31m---------------------------------------------------------------------------\u001b[0m",
            "\u001b[0;31mInvalidArgumentError\u001b[0m                      Traceback (most recent call last)",
            "\u001b[0;32m<ipython-input-35-a08016124894>\u001b[0m in \u001b[0;36m<module>\u001b[0;34m()\u001b[0m\n\u001b[1;32m     40\u001b[0m     \u001b[0mepochs\u001b[0m\u001b[0;34m=\u001b[0m\u001b[0;36m10\u001b[0m\u001b[0;34m,\u001b[0m\u001b[0;34m\u001b[0m\u001b[0;34m\u001b[0m\u001b[0m\n\u001b[1;32m     41\u001b[0m     \u001b[0mvalidation_data\u001b[0m\u001b[0;34m=\u001b[0m\u001b[0;34m(\u001b[0m\u001b[0mvalidation_x\u001b[0m\u001b[0;34m,\u001b[0m \u001b[0mvalidation_y\u001b[0m\u001b[0;34m)\u001b[0m\u001b[0;34m,\u001b[0m\u001b[0;34m\u001b[0m\u001b[0;34m\u001b[0m\u001b[0m\n\u001b[0;32m---> 42\u001b[0;31m     \u001b[0mcallbacks\u001b[0m\u001b[0;34m=\u001b[0m\u001b[0;34m[\u001b[0m\u001b[0mtbCallBack\u001b[0m\u001b[0;34m,\u001b[0m \u001b[0mcheckpoint\u001b[0m\u001b[0;34m]\u001b[0m\u001b[0;34m\u001b[0m\u001b[0;34m\u001b[0m\u001b[0m\n\u001b[0m\u001b[1;32m     43\u001b[0m )\n\u001b[1;32m     44\u001b[0m \u001b[0;34m\u001b[0m\u001b[0m\n",
            "\u001b[0;32m/usr/local/lib/python3.6/dist-packages/tensorflow/python/keras/engine/training.py\u001b[0m in \u001b[0;36mfit\u001b[0;34m(self, x, y, batch_size, epochs, verbose, callbacks, validation_split, validation_data, shuffle, class_weight, sample_weight, initial_epoch, steps_per_epoch, validation_steps, max_queue_size, workers, use_multiprocessing, **kwargs)\u001b[0m\n\u001b[1;32m    878\u001b[0m           \u001b[0minitial_epoch\u001b[0m\u001b[0;34m=\u001b[0m\u001b[0minitial_epoch\u001b[0m\u001b[0;34m,\u001b[0m\u001b[0;34m\u001b[0m\u001b[0;34m\u001b[0m\u001b[0m\n\u001b[1;32m    879\u001b[0m           \u001b[0msteps_per_epoch\u001b[0m\u001b[0;34m=\u001b[0m\u001b[0msteps_per_epoch\u001b[0m\u001b[0;34m,\u001b[0m\u001b[0;34m\u001b[0m\u001b[0;34m\u001b[0m\u001b[0m\n\u001b[0;32m--> 880\u001b[0;31m           validation_steps=validation_steps)\n\u001b[0m\u001b[1;32m    881\u001b[0m \u001b[0;34m\u001b[0m\u001b[0m\n\u001b[1;32m    882\u001b[0m   def evaluate(self,\n",
            "\u001b[0;32m/usr/local/lib/python3.6/dist-packages/tensorflow/python/keras/engine/training_arrays.py\u001b[0m in \u001b[0;36mmodel_iteration\u001b[0;34m(model, inputs, targets, sample_weights, batch_size, epochs, verbose, callbacks, val_inputs, val_targets, val_sample_weights, shuffle, initial_epoch, steps_per_epoch, validation_steps, mode, validation_in_fit, **kwargs)\u001b[0m\n\u001b[1;32m    362\u001b[0m           \u001b[0mverbose\u001b[0m\u001b[0;34m=\u001b[0m\u001b[0;36m0\u001b[0m\u001b[0;34m,\u001b[0m\u001b[0;34m\u001b[0m\u001b[0;34m\u001b[0m\u001b[0m\n\u001b[1;32m    363\u001b[0m           \u001b[0mmode\u001b[0m\u001b[0;34m=\u001b[0m\u001b[0;34m'test'\u001b[0m\u001b[0;34m,\u001b[0m\u001b[0;34m\u001b[0m\u001b[0;34m\u001b[0m\u001b[0m\n\u001b[0;32m--> 364\u001b[0;31m           validation_in_fit=True)\n\u001b[0m\u001b[1;32m    365\u001b[0m       \u001b[0;32mif\u001b[0m \u001b[0;32mnot\u001b[0m \u001b[0misinstance\u001b[0m\u001b[0;34m(\u001b[0m\u001b[0mval_results\u001b[0m\u001b[0;34m,\u001b[0m \u001b[0mlist\u001b[0m\u001b[0;34m)\u001b[0m\u001b[0;34m:\u001b[0m\u001b[0;34m\u001b[0m\u001b[0;34m\u001b[0m\u001b[0m\n\u001b[1;32m    366\u001b[0m         \u001b[0mval_results\u001b[0m \u001b[0;34m=\u001b[0m \u001b[0;34m[\u001b[0m\u001b[0mval_results\u001b[0m\u001b[0;34m]\u001b[0m\u001b[0;34m\u001b[0m\u001b[0;34m\u001b[0m\u001b[0m\n",
            "\u001b[0;32m/usr/local/lib/python3.6/dist-packages/tensorflow/python/keras/engine/training_arrays.py\u001b[0m in \u001b[0;36mmodel_iteration\u001b[0;34m(model, inputs, targets, sample_weights, batch_size, epochs, verbose, callbacks, val_inputs, val_targets, val_sample_weights, shuffle, initial_epoch, steps_per_epoch, validation_steps, mode, validation_in_fit, **kwargs)\u001b[0m\n\u001b[1;32m    327\u001b[0m \u001b[0;34m\u001b[0m\u001b[0m\n\u001b[1;32m    328\u001b[0m         \u001b[0;31m# Get outputs.\u001b[0m\u001b[0;34m\u001b[0m\u001b[0;34m\u001b[0m\u001b[0;34m\u001b[0m\u001b[0m\n\u001b[0;32m--> 329\u001b[0;31m         \u001b[0mbatch_outs\u001b[0m \u001b[0;34m=\u001b[0m \u001b[0mf\u001b[0m\u001b[0;34m(\u001b[0m\u001b[0mins_batch\u001b[0m\u001b[0;34m)\u001b[0m\u001b[0;34m\u001b[0m\u001b[0;34m\u001b[0m\u001b[0m\n\u001b[0m\u001b[1;32m    330\u001b[0m         \u001b[0;32mif\u001b[0m \u001b[0;32mnot\u001b[0m \u001b[0misinstance\u001b[0m\u001b[0;34m(\u001b[0m\u001b[0mbatch_outs\u001b[0m\u001b[0;34m,\u001b[0m \u001b[0mlist\u001b[0m\u001b[0;34m)\u001b[0m\u001b[0;34m:\u001b[0m\u001b[0;34m\u001b[0m\u001b[0;34m\u001b[0m\u001b[0m\n\u001b[1;32m    331\u001b[0m           \u001b[0mbatch_outs\u001b[0m \u001b[0;34m=\u001b[0m \u001b[0;34m[\u001b[0m\u001b[0mbatch_outs\u001b[0m\u001b[0;34m]\u001b[0m\u001b[0;34m\u001b[0m\u001b[0;34m\u001b[0m\u001b[0m\n",
            "\u001b[0;32m/usr/local/lib/python3.6/dist-packages/tensorflow/python/keras/backend.py\u001b[0m in \u001b[0;36m__call__\u001b[0;34m(self, inputs)\u001b[0m\n\u001b[1;32m   3074\u001b[0m \u001b[0;34m\u001b[0m\u001b[0m\n\u001b[1;32m   3075\u001b[0m     fetched = self._callable_fn(*array_vals,\n\u001b[0;32m-> 3076\u001b[0;31m                                 run_metadata=self.run_metadata)\n\u001b[0m\u001b[1;32m   3077\u001b[0m     \u001b[0mself\u001b[0m\u001b[0;34m.\u001b[0m\u001b[0m_call_fetch_callbacks\u001b[0m\u001b[0;34m(\u001b[0m\u001b[0mfetched\u001b[0m\u001b[0;34m[\u001b[0m\u001b[0;34m-\u001b[0m\u001b[0mlen\u001b[0m\u001b[0;34m(\u001b[0m\u001b[0mself\u001b[0m\u001b[0;34m.\u001b[0m\u001b[0m_fetches\u001b[0m\u001b[0;34m)\u001b[0m\u001b[0;34m:\u001b[0m\u001b[0;34m]\u001b[0m\u001b[0;34m)\u001b[0m\u001b[0;34m\u001b[0m\u001b[0;34m\u001b[0m\u001b[0m\n\u001b[1;32m   3078\u001b[0m     return nest.pack_sequence_as(self._outputs_structure,\n",
            "\u001b[0;32m/usr/local/lib/python3.6/dist-packages/tensorflow/python/client/session.py\u001b[0m in \u001b[0;36m__call__\u001b[0;34m(self, *args, **kwargs)\u001b[0m\n\u001b[1;32m   1437\u001b[0m           ret = tf_session.TF_SessionRunCallable(\n\u001b[1;32m   1438\u001b[0m               \u001b[0mself\u001b[0m\u001b[0;34m.\u001b[0m\u001b[0m_session\u001b[0m\u001b[0;34m.\u001b[0m\u001b[0m_session\u001b[0m\u001b[0;34m,\u001b[0m \u001b[0mself\u001b[0m\u001b[0;34m.\u001b[0m\u001b[0m_handle\u001b[0m\u001b[0;34m,\u001b[0m \u001b[0margs\u001b[0m\u001b[0;34m,\u001b[0m \u001b[0mstatus\u001b[0m\u001b[0;34m,\u001b[0m\u001b[0;34m\u001b[0m\u001b[0;34m\u001b[0m\u001b[0m\n\u001b[0;32m-> 1439\u001b[0;31m               run_metadata_ptr)\n\u001b[0m\u001b[1;32m   1440\u001b[0m         \u001b[0;32mif\u001b[0m \u001b[0mrun_metadata\u001b[0m\u001b[0;34m:\u001b[0m\u001b[0;34m\u001b[0m\u001b[0;34m\u001b[0m\u001b[0m\n\u001b[1;32m   1441\u001b[0m           \u001b[0mproto_data\u001b[0m \u001b[0;34m=\u001b[0m \u001b[0mtf_session\u001b[0m\u001b[0;34m.\u001b[0m\u001b[0mTF_GetBuffer\u001b[0m\u001b[0;34m(\u001b[0m\u001b[0mrun_metadata_ptr\u001b[0m\u001b[0;34m)\u001b[0m\u001b[0;34m\u001b[0m\u001b[0;34m\u001b[0m\u001b[0m\n",
            "\u001b[0;32m/usr/local/lib/python3.6/dist-packages/tensorflow/python/framework/errors_impl.py\u001b[0m in \u001b[0;36m__exit__\u001b[0;34m(self, type_arg, value_arg, traceback_arg)\u001b[0m\n\u001b[1;32m    526\u001b[0m             \u001b[0;32mNone\u001b[0m\u001b[0;34m,\u001b[0m \u001b[0;32mNone\u001b[0m\u001b[0;34m,\u001b[0m\u001b[0;34m\u001b[0m\u001b[0;34m\u001b[0m\u001b[0m\n\u001b[1;32m    527\u001b[0m             \u001b[0mcompat\u001b[0m\u001b[0;34m.\u001b[0m\u001b[0mas_text\u001b[0m\u001b[0;34m(\u001b[0m\u001b[0mc_api\u001b[0m\u001b[0;34m.\u001b[0m\u001b[0mTF_Message\u001b[0m\u001b[0;34m(\u001b[0m\u001b[0mself\u001b[0m\u001b[0;34m.\u001b[0m\u001b[0mstatus\u001b[0m\u001b[0;34m.\u001b[0m\u001b[0mstatus\u001b[0m\u001b[0;34m)\u001b[0m\u001b[0;34m)\u001b[0m\u001b[0;34m,\u001b[0m\u001b[0;34m\u001b[0m\u001b[0;34m\u001b[0m\u001b[0m\n\u001b[0;32m--> 528\u001b[0;31m             c_api.TF_GetCode(self.status.status))\n\u001b[0m\u001b[1;32m    529\u001b[0m     \u001b[0;31m# Delete the underlying status object from memory otherwise it stays alive\u001b[0m\u001b[0;34m\u001b[0m\u001b[0;34m\u001b[0m\u001b[0;34m\u001b[0m\u001b[0m\n\u001b[1;32m    530\u001b[0m     \u001b[0;31m# as there is a reference to status from this from the traceback due to\u001b[0m\u001b[0;34m\u001b[0m\u001b[0;34m\u001b[0m\u001b[0;34m\u001b[0m\u001b[0m\n",
            "\u001b[0;31mInvalidArgumentError\u001b[0m: You must feed a value for placeholder tensor 'dense_1_target' with dtype int32 and shape [?,?]\n\t [[{{node dense_1_target}}]]\n\t [[{{node _arg_dense_7_target_0_1}}]]"
          ]
        }
      ]
    }
  ]
}